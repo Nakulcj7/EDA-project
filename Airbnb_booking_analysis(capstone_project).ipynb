{
  "nbformat": 4,
  "nbformat_minor": 0,
  "metadata": {
    "colab": {
      "private_outputs": true,
      "provenance": [],
      "collapsed_sections": [
        "mDgbUHAGgjLW",
        "gIfDvo9L0UH2"
      ],
      "include_colab_link": true
    },
    "kernelspec": {
      "name": "python3",
      "display_name": "Python 3"
    },
    "language_info": {
      "name": "python"
    }
  },
  "cells": [
    {
      "cell_type": "markdown",
      "metadata": {
        "id": "view-in-github",
        "colab_type": "text"
      },
      "source": [
        "<a href=\"https://colab.research.google.com/github/Nakulcj7/EDA-project/blob/main/Airbnb_booking_analysis(capstone_project).ipynb\" target=\"_parent\"><img src=\"https://colab.research.google.com/assets/colab-badge.svg\" alt=\"Open In Colab\"/></a>"
      ]
    },
    {
      "cell_type": "markdown",
      "source": [
        "# **Project Name**    -Airbnb Booking Analysis\n",
        "\n"
      ],
      "metadata": {
        "id": "vncDsAP0Gaoa"
      }
    },
    {
      "cell_type": "markdown",
      "source": [
        "##### **Project Type**    - EDA\n",
        "##### **Contribution**    - Individual\n",
        "**Name** - Nakul CJ\n"
      ],
      "metadata": {
        "id": "beRrZCGUAJYm"
      }
    },
    {
      "cell_type": "markdown",
      "source": [
        "# **Project Summary -**"
      ],
      "metadata": {
        "id": "FJNUwmbgGyua"
      }
    },
    {
      "cell_type": "markdown",
      "source": [
        "Airbnb,Inc is an american based company that operates an online marketplace for lodging,homestays for vaction rentals and tourism activities.Since 2008, guests and hosts have used Airbnb to expand on traveling possibilities and present a more unique, personalized way of experiencing the world.\n",
        "\n",
        "The Airbnb NYC 2019 dataset consists of information on 48,895 Airbnb listings in New York City, and the main objective of this project was to conduct an EDA of the dataset to obtain valuable insights into the Airbnb market in the city. To accomplish this goal, the EDA was divided into two primary phases: data cleaning and preprocessing, and exploratory analysis.\n",
        "\n",
        "The first stage involved identifying and addressing missing or inconsistent data, eliminating irrelevant variables and outliers,and ensuring that the data was appropriate for analysis. Following the data cleaning and preprocessing, the exploratory analysis was carried out, which involved examining the variable's distribution, identifying patterns and relationships between variable's, and using visualizations to obtain insights into the Airbnb market in New York City. This process revealed some interesting findings, such as the most popular neighborhoods, the most common room types, the average price of listings in different neighbourhoods etc.\n",
        "\n",
        "This report on the EDA are insights and recommendations for both Airbnb hosts and the company. The recommendations for hosts in high-demand neighborhoods is to offer discounts to gain a competitive edge, while those in less popular areas should consider lowering their prices or providing more significant discounts to attract more guests.\n",
        "\n",
        "This project demonstrated the importance of data analysis in comprehending and enhancing business performance.Through analyzing the Airbnb NYC 2019 dataset, valuable insights were acquired, which could be used by Airbnb hosts and the company to make correct decisions.The project emphasizes the potential of data analysis to improve business performance and highlights the significance of making data-driven decisions.\n",
        "\n"
      ],
      "metadata": {
        "id": "F6v_1wHtG2nS"
      }
    },
    {
      "cell_type": "markdown",
      "source": [
        "# **GitHub Link -**"
      ],
      "metadata": {
        "id": "w6K7xa23Elo4"
      }
    },
    {
      "cell_type": "markdown",
      "source": [
        "https://github.com/Nakulcj7/EDA-project.git"
      ],
      "metadata": {
        "id": "h1o69JH3Eqqn"
      }
    },
    {
      "cell_type": "markdown",
      "source": [
        "# **Problem Statement**\n"
      ],
      "metadata": {
        "id": "yQaldy8SH6Dl"
      }
    },
    {
      "cell_type": "markdown",
      "source": [
        "\n",
        "Airbnb dataset is used to understand the factors that impact booking rates and customer satisfaction, in order to identify areas for improvement and optimize revenue."
      ],
      "metadata": {
        "id": "DpeJGUA3kjGy"
      }
    },
    {
      "cell_type": "markdown",
      "source": [
        "#### **Define Your Business Objective?**"
      ],
      "metadata": {
        "id": "PH-0ReGfmX4f"
      }
    },
    {
      "cell_type": "markdown",
      "source": [
        "Business objective for performing an exploratory data analysis (EDA) on the Airbnb dataset is to identify opportunities to improve the user experience and drive revenue growth. By analyzing patterns and trends in the data, the company can gain insights into customer preferences and behaviors, as well as identify potential areas for improvement in terms of pricing and availability. This information can be used for strategic decisions around marketing, product development, and service enhancements to ultimately increase bookings, customer satisfaction, and profitability."
      ],
      "metadata": {
        "id": "PhDvGCAqmjP1"
      }
    },
    {
      "cell_type": "markdown",
      "source": [
        "# **General Guidelines** : -  "
      ],
      "metadata": {
        "id": "mDgbUHAGgjLW"
      }
    },
    {
      "cell_type": "markdown",
      "source": [
        "1.   Well-structured, formatted, and commented code is required.\n",
        "2.   Exception Handling, Production Grade Code & Deployment Ready Code will be a plus. Those students will be awarded some additional credits.\n",
        "     \n",
        "     The additional credits will have advantages over other students during Star Student selection.\n",
        "       \n",
        "             [ Note: - Deployment Ready Code is defined as, the whole .ipynb notebook should be executable in one go\n",
        "                       without a single error logged. ]\n",
        "\n",
        "3.   Each and every logic should have proper comments.\n",
        "4. You may add as many number of charts you want. Make Sure for each and every chart the following format should be answered.\n",
        "        \n",
        "\n",
        "```\n",
        "# Chart visualization code\n",
        "```\n",
        "            \n",
        "\n",
        "*   Why did you pick the specific chart?\n",
        "*   What is/are the insight(s) found from the chart?\n",
        "* Will the gained insights help creating a positive business impact?\n",
        "Are there any insights that lead to negative growth? Justify with specific reason.\n",
        "\n",
        "5. You have to create at least 20 logical & meaningful charts having important insights.\n",
        "\n",
        "\n",
        "[ Hints : - Do the Vizualization in  a structured way while following \"UBM\" Rule.\n",
        "\n",
        "U - Univariate Analysis,\n",
        "\n",
        "B - Bivariate Analysis (Numerical - Categorical, Numerical - Numerical, Categorical - Categorical)\n",
        "\n",
        "M - Multivariate Analysis\n",
        " ]\n",
        "\n",
        "\n",
        "\n"
      ],
      "metadata": {
        "id": "ZrxVaUj-hHfC"
      }
    },
    {
      "cell_type": "markdown",
      "source": [
        "# ***Let's Begin !***"
      ],
      "metadata": {
        "id": "O_i_v8NEhb9l"
      }
    },
    {
      "cell_type": "markdown",
      "source": [
        "## ***1. Know Your Data***"
      ],
      "metadata": {
        "id": "HhfV-JJviCcP"
      }
    },
    {
      "cell_type": "markdown",
      "source": [
        "### Import Libraries"
      ],
      "metadata": {
        "id": "Y3lxredqlCYt"
      }
    },
    {
      "cell_type": "code",
      "source": [
        "# Import Libraries\n",
        "import pandas as pd\n",
        "import numpy as np\n",
        "import matplotlib.pyplot as plt\n",
        "%matplotlib inline\n",
        "import seaborn as sns\n",
        "from datetime import datetime\n",
        "from datetime import date"
      ],
      "metadata": {
        "id": "M8Vqi-pPk-HR"
      },
      "execution_count": null,
      "outputs": []
    },
    {
      "cell_type": "markdown",
      "source": [
        "### Dataset Loading"
      ],
      "metadata": {
        "id": "3RnN4peoiCZX"
      }
    },
    {
      "cell_type": "code",
      "source": [
        "# Load Dataset\n",
        "from google.colab import drive\n",
        "drive.mount('/content/drive')"
      ],
      "metadata": {
        "id": "4CkvbW_SlZ_R"
      },
      "execution_count": null,
      "outputs": []
    },
    {
      "cell_type": "code",
      "source": [
        "path = ('/content/drive/My Drive/')"
      ],
      "metadata": {
        "id": "dmrOWF70664F"
      },
      "execution_count": null,
      "outputs": []
    },
    {
      "cell_type": "markdown",
      "source": [
        "### Dataset First View"
      ],
      "metadata": {
        "id": "x71ZqKXriCWQ"
      }
    },
    {
      "cell_type": "code",
      "source": [
        "# Dataset First Look\n",
        "airbnb_df = pd.read_csv(path + 'Airbnb NYC 2019.csv')"
      ],
      "metadata": {
        "id": "LWNFOSvLl09H"
      },
      "execution_count": null,
      "outputs": []
    },
    {
      "cell_type": "code",
      "source": [
        "airbnb_df.head()"
      ],
      "metadata": {
        "id": "-2rxlOKU8M1U"
      },
      "execution_count": null,
      "outputs": []
    },
    {
      "cell_type": "code",
      "source": [
        "airbnb_df.shape"
      ],
      "metadata": {
        "id": "t9PQ9M4K8swo"
      },
      "execution_count": null,
      "outputs": []
    },
    {
      "cell_type": "markdown",
      "source": [
        "### Dataset Rows & Columns count"
      ],
      "metadata": {
        "id": "7hBIi_osiCS2"
      }
    },
    {
      "cell_type": "code",
      "source": [
        "# Dataset Rows & Columns count\n",
        "rows_count = len(list(airbnb_df.index))\n",
        "columns_count = len(list(airbnb_df.columns))\n",
        "print(f\"Number of rows: {rows_count}\")\n",
        "print(f\"Number of columns: {columns_count}\")\n",
        "\n"
      ],
      "metadata": {
        "id": "Kllu7SJgmLij"
      },
      "execution_count": null,
      "outputs": []
    },
    {
      "cell_type": "markdown",
      "source": [
        "### Dataset Information"
      ],
      "metadata": {
        "id": "JlHwYmJAmNHm"
      }
    },
    {
      "cell_type": "code",
      "source": [
        "# Dataset Info\n",
        "airbnb_df.info()\n"
      ],
      "metadata": {
        "id": "e9hRXRi6meOf"
      },
      "execution_count": null,
      "outputs": []
    },
    {
      "cell_type": "markdown",
      "source": [
        "#### Duplicate Values"
      ],
      "metadata": {
        "id": "35m5QtbWiB9F"
      }
    },
    {
      "cell_type": "code",
      "source": [
        "# Dataset Duplicate Value Count\n",
        "# Identifying duplicates\n",
        "duplicate_values = airbnb_df.duplicated()\n",
        "# print(duplicate_values)\n",
        "# Counting the number of duplicates\n",
        "duplicate_values_count = duplicate_values.sum()\n",
        "print(f'There are {duplicate_values_count} duplicate rows in the dataset.')"
      ],
      "metadata": {
        "id": "1sLdpKYkmox0"
      },
      "execution_count": null,
      "outputs": []
    },
    {
      "cell_type": "markdown",
      "source": [
        "#### Missing Values/Null Values"
      ],
      "metadata": {
        "id": "PoPl-ycgm1ru"
      }
    },
    {
      "cell_type": "code",
      "source": [
        "# Missing Values/Null Values Count\n",
        "missing_count = airbnb_df.isnull().sum()\n",
        "print(missing_count)"
      ],
      "metadata": {
        "id": "GgHWkxvamxVg"
      },
      "execution_count": null,
      "outputs": []
    },
    {
      "cell_type": "code",
      "source": [
        "# Visualizing the missing values\n",
        "missing_count.plot(kind='bar', color='Green', width= 0.7)"
      ],
      "metadata": {
        "id": "3q5wnI3om9sJ"
      },
      "execution_count": null,
      "outputs": []
    },
    {
      "cell_type": "markdown",
      "source": [],
      "metadata": {
        "id": "ZZFWl2qTAWb3"
      }
    },
    {
      "cell_type": "markdown",
      "source": [
        "### What did you know about your dataset?\n",
        "From the basic analysis,there are four columns which are having missing/null values in it.The columns are name,host_name,last_review and reviews_per_month.\n"
      ],
      "metadata": {
        "id": "H0kj-8xxnORC"
      }
    },
    {
      "cell_type": "markdown",
      "source": [
        "## ***2. Understanding Your Variables***"
      ],
      "metadata": {
        "id": "nA9Y7ga8ng1Z"
      }
    },
    {
      "cell_type": "code",
      "source": [
        "# Dataset Columns\n",
        "columns =list(airbnb_df.columns)\n",
        "print(columns)"
      ],
      "metadata": {
        "id": "j7xfkqrt5Ag5"
      },
      "execution_count": null,
      "outputs": []
    },
    {
      "cell_type": "code",
      "source": [
        "# Dataset Describe\n",
        "airbnb_df.describe()"
      ],
      "metadata": {
        "id": "u_2qi9Cl4OFR"
      },
      "execution_count": null,
      "outputs": []
    },
    {
      "cell_type": "code",
      "source": [
        "# Dataset Describe(on selected columns)\n",
        "numerical_colums_description = airbnb_df[['price','minimum_nights','number_of_reviews','reviews_per_month','calculated_host_listings_count','availability_365']]\n",
        "numerical_colums_description.describe()"
      ],
      "metadata": {
        "id": "DnOaZdaE5Q5t"
      },
      "execution_count": null,
      "outputs": []
    },
    {
      "cell_type": "markdown",
      "source": [
        "### Variables Description"
      ],
      "metadata": {
        "id": "PBTbrJXOngz2"
      }
    },
    {
      "cell_type": "markdown",
      "source": [
        "There are some problems with the dataset,such as:\n",
        "\n",
        "\n",
        "*   The minimum price is zero for a property which can't be true and perhaps an indication of the incorrect entry of data in the price column.\n",
        "*   The minimum days for availability of a property is listed as zero for some properties. Maybe these are old properties which are no more available for bookings or these are new properties which are listed but still not available for booking or both.\n",
        "\n",
        "*  The minimum number of reviews is zero which is surprising for a property to have zero number of reviews. Maybe these are new properties that have been recently listed and that might be the reason for zero number of reviews.\n",
        "\n",
        "\n",
        "\n",
        "\n",
        "\n"
      ],
      "metadata": {
        "id": "aJV4KIxSnxay"
      }
    },
    {
      "cell_type": "markdown",
      "source": [
        "### Check Unique Values for each variable."
      ],
      "metadata": {
        "id": "u3PMJOP6ngxN"
      }
    },
    {
      "cell_type": "code",
      "source": [
        "# Check Unique Values for each variable.\n",
        "def num_of_unique_elements(columns):\n",
        "  for index,column_name in enumerate(columns):\n",
        "    print(f'Number of unique elements in {columns[index]}: {airbnb_df[columns[index]].value_counts().count()}')\n",
        "\n",
        "print(num_of_unique_elements(columns))"
      ],
      "metadata": {
        "id": "zms12Yq5n-jE"
      },
      "execution_count": null,
      "outputs": []
    },
    {
      "cell_type": "markdown",
      "source": [
        "## 3. ***Data Wrangling***"
      ],
      "metadata": {
        "id": "dauF4eBmngu3"
      }
    },
    {
      "cell_type": "markdown",
      "source": [
        "### Data Wrangling Code"
      ],
      "metadata": {
        "id": "bKJF3rekwFvQ"
      }
    },
    {
      "cell_type": "code",
      "source": [
        "# Write your code to make your dataset analysis ready.\n",
        "\n",
        "# Making a copy of dataset before making changes to it\n",
        "airbnb = airbnb_df .copy()"
      ],
      "metadata": {
        "id": "wk-9a2fpoLcV"
      },
      "execution_count": null,
      "outputs": []
    },
    {
      "cell_type": "code",
      "source": [
        "# Finding columns null values or missing values\n",
        "airbnb.isnull().sum()"
      ],
      "metadata": {
        "id": "LUHA2a5z_rYp"
      },
      "execution_count": null,
      "outputs": []
    },
    {
      "cell_type": "code",
      "source": [
        "# Removing rows with the missing names of the property name\n",
        "\n",
        "airbnb = airbnb[~airbnb['name'].isnull()]\n",
        "\n",
        "airbnb.isnull().sum()\n"
      ],
      "metadata": {
        "id": "niX2ZhjaAYUS"
      },
      "execution_count": null,
      "outputs": []
    },
    {
      "cell_type": "code",
      "source": [
        "# Removing the column \"reviews_per_month\"\n",
        "\n",
        "if 'reviews_per_month' in airbnb.columns:\n",
        "  airbnb.drop('reviews_per_month', axis = 1, inplace = True)\n",
        "\n",
        "airbnb.isnull().sum()\n"
      ],
      "metadata": {
        "id": "2CIDql72AdFa"
      },
      "execution_count": null,
      "outputs": []
    },
    {
      "cell_type": "code",
      "source": [
        "# Removing the rows corresponding to null values for \"host_name\"\n",
        "\n",
        "airbnb= airbnb[~airbnb['host_name'].isnull()]\n",
        "airbnb.isnull().sum()"
      ],
      "metadata": {
        "id": "uVyxq8eJAxSJ"
      },
      "execution_count": null,
      "outputs": []
    },
    {
      "cell_type": "code",
      "source": [
        "# Checking whether the number_of_reviews having 0 as value and the number of last_review with missing values are same or not\n",
        "\n",
        "count_1 = 0 # counts number of missing values in the last_review\n",
        "for i in airbnb['last_review']:\n",
        "  if pd.isnull(i):\n",
        "    count_1 = count_1 + 1\n",
        "\n",
        "print(f\"The missing values in the last_review are: {count_1}\")\n",
        "\n",
        "count_2 = 0 # counts number_of_reviews as 0\n",
        "for j in airbnb['number_of_reviews']:\n",
        "  if j == 0:\n",
        "    count_2 = count_2 +1\n",
        "\n",
        "print(f\"The values in the number_of_reviews as 0 are: {count_2}\")\n"
      ],
      "metadata": {
        "id": "IDLEUEVfBePp"
      },
      "execution_count": null,
      "outputs": []
    },
    {
      "cell_type": "markdown",
      "source": [
        "This indicates that  values in the number_of_reviews as 0 are exactly equal to the number of missing values in the last_review,which is expected."
      ],
      "metadata": {
        "id": "_sPmYUVABoCP"
      }
    },
    {
      "cell_type": "markdown",
      "source": [
        "Assumption\n",
        "\n",
        "To fill in the missing values in the last_review column, the approach taken is to replace them with the most recent date available in the column. This assumption is based on the belief that properties with 0 number_of_reviews are typically new listings on Airbnb. However, it is important to note that there could be some older properties with zero reviews, although this scenario is rare.\n"
      ],
      "metadata": {
        "id": "WOfsovYCChOF"
      }
    },
    {
      "cell_type": "code",
      "source": [
        "# Filter rows with non-null values for 'last_review' column\n",
        "last_review_null_removed = airbnb[~airbnb['last_review'].isnull()]\n",
        "\n",
        "# Convert format of 'last_review' column from string to datetime\n",
        "last_review_null_removed['last_review'] = pd.to_datetime(last_review_null_removed['last_review'], format='%Y-%m-%d')\n",
        "\n",
        "# Print information about the modified dataframe\n",
        "last_review_null_removed.info()"
      ],
      "metadata": {
        "id": "n128cs-nD18d"
      },
      "execution_count": null,
      "outputs": []
    },
    {
      "cell_type": "code",
      "source": [
        "#Again Converting 'last_review' column to datetime format\n",
        "airbnb['last_review'] = pd.to_datetime(airbnb['last_review'], errors='coerce')\n",
        "\n",
        "# Find the latest date in the 'last_review' column\n",
        "latest_date = airbnb['last_review'].max()\n",
        "\n",
        "# Replace null values with the latest date\n",
        "airbnb['last_review'].fillna(latest_date, inplace=True)\n",
        "\n",
        "# Check the number of null values in the dataframe\n",
        "airbnb.isnull().sum()"
      ],
      "metadata": {
        "id": "4O6mrBEhG614"
      },
      "execution_count": null,
      "outputs": []
    },
    {
      "cell_type": "code",
      "source": [
        "# Their is also problem with the price column\n",
        "\n",
        "airbnb['price'].describe()"
      ],
      "metadata": {
        "id": "mGdnTCQDHeKg"
      },
      "execution_count": null,
      "outputs": []
    },
    {
      "cell_type": "markdown",
      "source": [
        "The minimum value of price can't be zero"
      ],
      "metadata": {
        "id": "-Ry_SjmHHuq3"
      }
    },
    {
      "cell_type": "code",
      "source": [
        "#checking how many values in price column are zero.\n",
        "\n",
        "airbnb[airbnb['price'] == 0]"
      ],
      "metadata": {
        "id": "IzHl1NxLHrtA"
      },
      "execution_count": null,
      "outputs": []
    },
    {
      "cell_type": "code",
      "source": [
        "# Since number of rows containing Zero as price are less these rows can be removed from the dataset\n",
        "airbnb = airbnb[airbnb['price'] != 0]\n",
        "airbnb"
      ],
      "metadata": {
        "id": "YLnrTyToIFKQ"
      },
      "execution_count": null,
      "outputs": []
    },
    {
      "cell_type": "markdown",
      "source": [
        "### What all manipulations have you done and insights you found?"
      ],
      "metadata": {
        "id": "MSa1f5Uengrz"
      }
    },
    {
      "cell_type": "markdown",
      "source": [
        "The columns such as  name, host_name, last_reviews and reviews_per_month had missing/null values.\n",
        "\n",
        "*   Number of missing values for the column name are 16,so the rows containing missing values for name column have been removed.\n",
        "*   The number of missing values for the column host_name are 21,so the rows containing missing values for host_name have been removed.\n",
        "\n",
        "*   The column reviews_per_month has 10037 number of missing values.There is no way to calculate reviews_per_month for the missing values from the number_of_reviews column since the dataset does not specify that for how many months the property is listed.If it would have been provided then reviews_per_month could have been calculated by dividing number_of_reviews by the the months for which the property has been listed. So, there is no other option than dropping the reviews_per_month column and hence it has been dropped.\n",
        "*   To fill in the missing values in the last_review column, the approach taken is to replace them with the most recent date available in the column. This assumption is based on the belief that properties with zero number_of_reviews are typically new listings on Airbnb. However, it is important to note that there could be some older properties with zero reviews, although this scenario is highly unlikely.\n",
        "\n",
        "*   The rows containing zero value for price have been removed from the dataset as number of such rows was very less and price can't be zero for a property.\n",
        "\n",
        "\n",
        "\n",
        "\n",
        "\n"
      ],
      "metadata": {
        "id": "LbyXE7I1olp8"
      }
    },
    {
      "cell_type": "markdown",
      "source": [
        "## ***4. Data Vizualization, Storytelling & Experimenting with charts : Understand the relationships between variables***"
      ],
      "metadata": {
        "id": "GF8Ens_Soomf"
      }
    },
    {
      "cell_type": "markdown",
      "source": [
        "#### Chart - 1"
      ],
      "metadata": {
        "id": "0wOQAZs5pc--"
      }
    },
    {
      "cell_type": "code",
      "source": [
        "# Chart - 1 visualization code\n",
        "# neighbourhood_group with their associated number of properties\n",
        "\n",
        "airbnb['neighbourhood_group'].value_counts()\n",
        "\n"
      ],
      "metadata": {
        "id": "7v_ESjsspbW7"
      },
      "execution_count": null,
      "outputs": []
    },
    {
      "cell_type": "code",
      "source": [
        "# Chart - 1 visualization code\n",
        "\n",
        "plt.figure(figsize = (6,4))\n",
        "\n",
        "# creating the countplot with Seaborn\n",
        "\n",
        "ax = sns.countplot(data = airbnb, x = 'neighbourhood_group')\n",
        "\n",
        "for bars in ax.containers:\n",
        "    ax.bar_label(bars)\n",
        "\n",
        "\n",
        "# setting plot title and labels\n",
        "plt.title('Top 5 neighbourhood_groups with highest listings', fontsize = 12)\n",
        "plt.xlabel('neighbourhood_group', fontsize = 10)\n",
        "plt.ylabel('Number of properties', fontsize = 10)\n",
        "\n",
        "# changing fontsize of tick labels\n",
        "plt.tick_params(axis='x', labelsize=8)\n",
        "plt.tick_params(axis='y', labelsize=8)\n",
        "\n",
        "# display plot\n",
        "plt.show()"
      ],
      "metadata": {
        "id": "RP7NzTkOVlFY"
      },
      "execution_count": null,
      "outputs": []
    },
    {
      "cell_type": "markdown",
      "source": [
        "##### 1. Why did you pick the specific chart?"
      ],
      "metadata": {
        "id": "K5QZ13OEpz2H"
      }
    },
    {
      "cell_type": "markdown",
      "source": [
        "Using the Countplots method,we can understand how many times each category appears in the dataset"
      ],
      "metadata": {
        "id": "XESiWehPqBRc"
      }
    },
    {
      "cell_type": "markdown",
      "source": [
        "##### 2. What is/are the insight(s) found from the chart?"
      ],
      "metadata": {
        "id": "lQ7QKXXCp7Bj"
      }
    },
    {
      "cell_type": "markdown",
      "source": [
        "Manhattan has the highest number of properties,followed by Brooklyn,Queens,Bronx and Staten island."
      ],
      "metadata": {
        "id": "C_j1G7yiqdRP"
      }
    },
    {
      "cell_type": "markdown",
      "source": [
        "##### 3. Will the gained insights help creating a positive business impact?\n",
        "Are there any insights that lead to negative growth? Justify with specific reason."
      ],
      "metadata": {
        "id": "448CDAPjqfQr"
      }
    },
    {
      "cell_type": "markdown",
      "source": [
        "The positive business impact would be that identifying the top neighbourhood\n",
        "groups with the highest number of listings can help the platform focus its marketing efforts and resources on those areas. This targeted approach can lead to increased bookings and revenue.\n",
        "\n",
        "The negative impact would be that it reveals a significant decrease in bookings or occupancy rates for a specific neighbourhood group, it may indicate declining popularity or demand in that area. In such cases, the platform may need to reassess its marketing strategies or explore new neighbourhoods to maintain growth."
      ],
      "metadata": {
        "id": "3cspy4FjqxJW"
      }
    },
    {
      "cell_type": "markdown",
      "source": [
        "#### Chart - 2"
      ],
      "metadata": {
        "id": "KSlN3yHqYklG"
      }
    },
    {
      "cell_type": "code",
      "source": [
        "# Chart - 2 visualization code\n",
        "# Top 3 properties names with highest listings\n",
        "\n",
        "airbnb['name'].value_counts().head(3)"
      ],
      "metadata": {
        "id": "R4YgtaqtYklH"
      },
      "execution_count": null,
      "outputs": []
    },
    {
      "cell_type": "code",
      "source": [
        "# Chart - 2 visualization code\n",
        "\n",
        "plt.figure(figsize =(11,6))\n",
        "\n",
        "# creating the barplot with Seaborn\n",
        "sns.barplot(x= airbnb['name'].value_counts().head(3).index,\n",
        "            y= airbnb['name'].value_counts().head(3).values,\n",
        "            palette= 'rocket',width = 0.6)\n",
        "\n",
        "\n",
        "# setting plot title and labels\n",
        "plt.title('Top 3 Property names with highest listings', fontsize = 17)\n",
        "plt.xlabel('Property', fontsize = 15)\n",
        "plt.ylabel('Number of Listings', fontsize = 15)\n",
        "\n",
        "# changing fontsize of tick labels\n",
        "plt.tick_params(axis='x', labelsize=10)\n",
        "plt.tick_params(axis='y', labelsize=10)\n",
        "\n",
        "# rotate x-axis labels\n",
        "plt.xticks(rotation= 30)\n",
        "\n",
        "# display plot\n",
        "plt.show()"
      ],
      "metadata": {
        "id": "rrOuFobaZ-R0"
      },
      "execution_count": null,
      "outputs": []
    },
    {
      "cell_type": "markdown",
      "source": [
        "##### 1. Why did you pick the specific chart?"
      ],
      "metadata": {
        "id": "t6dVpIINYklI"
      }
    },
    {
      "cell_type": "markdown",
      "source": [
        "A bar chart is a common and effective way to visually represent categorical data, where the x-axis represents the categories and the y-axis represents the frequency or count of each category. A bar chart is a simple and easy-to-understand visual representation of the data, making it accessible to a wider audience."
      ],
      "metadata": {
        "id": "5aaW0BYyYklI"
      }
    },
    {
      "cell_type": "markdown",
      "source": [
        "##### 2. What is/are the insight(s) found from the chart?"
      ],
      "metadata": {
        "id": "ijmpgYnKYklI"
      }
    },
    {
      "cell_type": "markdown",
      "source": [
        "The properties with the names Hillside Hotel, Home away from home, and New york Multi-unit building are the top 3 most listed properties according to property name."
      ],
      "metadata": {
        "id": "PSx9atu2YklI"
      }
    },
    {
      "cell_type": "markdown",
      "source": [
        "##### 3. Will the gained insights help creating a positive business impact?\n",
        "Are there any insights that lead to negative growth? Justify with specific reason."
      ],
      "metadata": {
        "id": "-JiQyfWJYklI"
      }
    },
    {
      "cell_type": "markdown",
      "source": [
        "\n",
        "\n",
        "*   The positive business impact would be that by understanding the most popular property names can help the platform identify trends and preferences among users. This information can be used to optimize listing titles and descriptions to attract more bookings and increase user engagement.\n",
        "*   The negative impact would be that if the analysis reveals that the top property names are associated with a specific location or neighborhood that is experiencing a decline in popularity or demand, it may negatively impact bookings and revenue for that area. The platform may need to reassess its marketing strategies or explore new locations to mitigate the negative impact.\n",
        "\n"
      ],
      "metadata": {
        "id": "BcBbebzrYklV"
      }
    },
    {
      "cell_type": "markdown",
      "source": [
        "#### Chart - 3"
      ],
      "metadata": {
        "id": "EM7whBJCYoAo"
      }
    },
    {
      "cell_type": "code",
      "source": [
        "# Top 5 host_name who are caretakers of maximum properties\n",
        "\n",
        "airbnb['host_name'].value_counts().head()"
      ],
      "metadata": {
        "id": "l6S6hYNCcmo7"
      },
      "execution_count": null,
      "outputs": []
    },
    {
      "cell_type": "code",
      "source": [
        "# Chart - 3 visualization code\n",
        "plt.figure(figsize = (7,5))\n",
        "\n",
        "# creating the barplot with Seaborn\n",
        "sns.barplot(x= airbnb['host_name'].value_counts().head().index,\n",
        "            y= airbnb['host_name'].value_counts().head().values,\n",
        "            palette= 'cubehelix',width = 0.5)\n",
        "\n",
        "\n",
        "# setting plot title and labels\n",
        "plt.title('Top 5 host_name with highest listings', fontsize = 15)\n",
        "plt.xlabel('host_name', fontsize = 14)\n",
        "plt.ylabel('Number of Listings', fontsize = 14)\n",
        "\n",
        "# changing fontsize of tick labels\n",
        "plt.tick_params(axis='x', labelsize=10)\n",
        "plt.tick_params(axis='y', labelsize=10)\n",
        "\n",
        "# display plot\n",
        "plt.show()\n"
      ],
      "metadata": {
        "id": "t6GMdE67YoAp"
      },
      "execution_count": null,
      "outputs": []
    },
    {
      "cell_type": "markdown",
      "source": [
        "##### 1. Why did you pick the specific chart?"
      ],
      "metadata": {
        "id": "fge-S5ZAYoAp"
      }
    },
    {
      "cell_type": "markdown",
      "source": [
        "Bar charts are easy to interpret, even for those unfamiliar with data visualization. The height or length of each bar directly corresponds to the value being represented, allowing for quick comparisons and insights."
      ],
      "metadata": {
        "id": "5dBItgRVYoAp"
      }
    },
    {
      "cell_type": "markdown",
      "source": [
        "##### 2. What is/are the insight(s) found from the chart?"
      ],
      "metadata": {
        "id": "85gYPyotYoAp"
      }
    },
    {
      "cell_type": "markdown",
      "source": [
        "The top 5 host who have maximum listings are Michael, David, Sonder(NYC), John, and Alex."
      ],
      "metadata": {
        "id": "4jstXR6OYoAp"
      }
    },
    {
      "cell_type": "markdown",
      "source": [
        "##### 3. Will the gained insights help creating a positive business impact?\n",
        "Are there any insights that lead to negative growth? Justify with specific reason."
      ],
      "metadata": {
        "id": "RoGjAbkUYoAp"
      }
    },
    {
      "cell_type": "markdown",
      "source": [
        "\n",
        "\n",
        "*   The positive impact would be that the platform can leverage this insights to establish partnerships with the top hosts, offering them exclusive benefits, support, and resources. Collaborating with successful hosts can lead to improved host retention, enhanced property offerings, and increased customer satisfaction.\n",
        "*   The negative impact would be as these analysis reveals a heavy reliance on a few top hosts, it may lead to an imbalance in the platform's host ecosystem. Over-dependence on a small number of hosts creates a vulnerability where any adverse events impacting those hosts can significantly affect the platform's operations and revenue. Diversification and encouraging a broader base of successful hosts can help mitigate this risk.\n",
        "\n"
      ],
      "metadata": {
        "id": "zfJ8IqMcYoAp"
      }
    },
    {
      "cell_type": "markdown",
      "source": [
        "#### Chart - 4"
      ],
      "metadata": {
        "id": "4Of9eVA-YrdM"
      }
    },
    {
      "cell_type": "code",
      "source": [
        "# Visualizing Property density in neighbourhood groups\n",
        "\n",
        "# Chart - 4 visualization code\n",
        "# creating scatter plot showing the density of properties in different neighbourhood_group\n",
        "sns.scatterplot(x= 'longitude', y= 'latitude', data= airbnb, hue= 'neighbourhood_group')\n",
        "\n",
        "# set the x-axis and y-axis labels\n",
        "\n",
        "plt.xlabel('latitude', fontsize = 12)\n",
        "plt.ylabel('longitude', fontsize = 12)\n",
        "\n",
        "# set the title\n",
        "plt.title('Property Location Plot', fontsize = 15 )\n",
        "\n",
        "# display the plot\n",
        "plt.show()\n",
        "\n"
      ],
      "metadata": {
        "id": "irlUoxc8YrdO"
      },
      "execution_count": null,
      "outputs": []
    },
    {
      "cell_type": "markdown",
      "source": [
        "##### 1. Why did you pick the specific chart?"
      ],
      "metadata": {
        "id": "iky9q4vBYrdO"
      }
    },
    {
      "cell_type": "markdown",
      "source": [
        "A scatter plot is a type of graph that is used to display the relationship between two variables. It is useful when you want to visualize how the values present in the two columns are related."
      ],
      "metadata": {
        "id": "aJRCwT6DYrdO"
      }
    },
    {
      "cell_type": "markdown",
      "source": [
        "##### 2. What is/are the insight(s) found from the chart?"
      ],
      "metadata": {
        "id": "F6T5p64dYrdO"
      }
    },
    {
      "cell_type": "markdown",
      "source": [
        "We have already seen earlier that the neighbourhood_group Manhattan has highest number of properties listed. Now from the above scatter plot we can also see that the Manhattan has the highest density of properties."
      ],
      "metadata": {
        "id": "Xx8WAJvtYrdO"
      }
    },
    {
      "cell_type": "markdown",
      "source": [
        "##### 3. Will the gained insights help creating a positive business impact?\n",
        "Are there any insights that lead to negative growth? Justify with specific reason."
      ],
      "metadata": {
        "id": "y-Ehk30pYrdP"
      }
    },
    {
      "cell_type": "markdown",
      "source": [
        "\n",
        "\n",
        "*   The positive impact would be that this provides insights into underrepresented or underserved neighborhood groups with lower property densities. This information can help identify potential expansion opportunities for the platform. By targeting these areas, the platform can attract more hosts and guests, diversify its offerings, and tap into new markets.\n",
        "*   The negative impact would be this scatter plot reveals a significant concentration of properties in a few select neighborhood groups, it may lead to oversaturation and intense competition within those areas. This can result in a downward pressure on prices, reduced profitability for hosts.\n",
        "\n"
      ],
      "metadata": {
        "id": "jLNxxz7MYrdP"
      }
    },
    {
      "cell_type": "markdown",
      "source": [
        "#### Chart - 5"
      ],
      "metadata": {
        "id": "bamQiAODYuh1"
      }
    },
    {
      "cell_type": "code",
      "source": [
        "# room_type available\n",
        "\n",
        "airbnb['room_type'].value_counts()"
      ],
      "metadata": {
        "id": "ikeA2u_q8M8n"
      },
      "execution_count": null,
      "outputs": []
    },
    {
      "cell_type": "code",
      "source": [
        "# Chart - 5 visualization code\n",
        "plt.figure(figsize=(5,5))\n",
        "plt.pie(list(airbnb['room_type'].value_counts()),labels=list(airbnb['room_type'].value_counts().index),autopct='%1.1f%%',explode = [0.06, 0.06, 0.06])\n",
        "plt.show()"
      ],
      "metadata": {
        "id": "TIJwrbroYuh3"
      },
      "execution_count": null,
      "outputs": []
    },
    {
      "cell_type": "markdown",
      "source": [
        "##### 1. Why did you pick the specific chart?"
      ],
      "metadata": {
        "id": "QHF8YVU7Yuh3"
      }
    },
    {
      "cell_type": "markdown",
      "source": [
        "\n",
        "\n",
        "A pie chart is a type of graph that is used to display the proportion or percentage of each category in a data set. It is useful when you want to visualize how different categories contribute to a whole.\n"
      ],
      "metadata": {
        "id": "dcxuIMRPYuh3"
      }
    },
    {
      "cell_type": "markdown",
      "source": [
        "##### 2. What is/are the insight(s) found from the chart?"
      ],
      "metadata": {
        "id": "GwzvFGzlYuh3"
      }
    },
    {
      "cell_type": "markdown",
      "source": [
        "An entire home/apt is more preferred and then followed by private room.Shared room is preferred by a percentage of few."
      ],
      "metadata": {
        "id": "uyqkiB8YYuh3"
      }
    },
    {
      "cell_type": "markdown",
      "source": [
        "##### 3. Will the gained insights help creating a positive business impact?\n",
        "Are there any insights that lead to negative growth? Justify with specific reason."
      ],
      "metadata": {
        "id": "qYpmQ266Yuh3"
      }
    },
    {
      "cell_type": "markdown",
      "source": [
        "\n",
        "\n",
        "*   The positive impact would be that the distribution of room types influences pricing strategies. Hosts can adjust their prices based on the demand and supply dynamics of each room type. Understanding the popularity of different room types allows hosts to price competitively and maximize their revenue potential while ensuring the affordability and value for guests.\n",
        "*   The negative impact would be that if the majority of the distribution is skewed towards a few highly popular room types, there may be a risk of oversaturation and intense competition among hosts offering similar room types. This can lead to reduced profitability and potential negative impacts on hosts business growth.\n",
        "\n"
      ],
      "metadata": {
        "id": "_WtzZ_hCYuh4"
      }
    },
    {
      "cell_type": "markdown",
      "source": [
        "#### Chart - 6"
      ],
      "metadata": {
        "id": "OH-pJp9IphqM"
      }
    },
    {
      "cell_type": "code",
      "source": [
        "# Price range of listed properties\n",
        "\n",
        "airbnb['price'].sort_values(ascending= False)"
      ],
      "metadata": {
        "id": "Srmv6qnHAgoi"
      },
      "execution_count": null,
      "outputs": []
    },
    {
      "cell_type": "code",
      "source": [
        "# Categorizing properties based on price\n",
        "\n",
        "# creating a function to categorize properties based on their price\n",
        "\n",
        "def categorize_price(price):\n",
        "    if price < 50:\n",
        "        return 'Low'\n",
        "    elif price >= 50 and price < 2000:\n",
        "        return 'Medium'\n",
        "    else:\n",
        "        return 'High'\n",
        "\n",
        "# applying the function to the 'price' column of the 'airbnb' DataFrame\n",
        "airbnb['price_category'] = airbnb['price'].apply(categorize_price)"
      ],
      "metadata": {
        "id": "jc5o8Y1QAzkN"
      },
      "execution_count": null,
      "outputs": []
    },
    {
      "cell_type": "code",
      "source": [
        "price_category = airbnb.groupby('price_category', as_index = False)['id'].count().rename(columns={'id':'Count'}).sort_values('Count', ascending = False)\n",
        "price_category"
      ],
      "metadata": {
        "id": "x93jfLN3A3I9"
      },
      "execution_count": null,
      "outputs": []
    },
    {
      "cell_type": "code",
      "source": [
        "# Chart - 6 visualization code\n",
        "\n",
        "ax = sns.countplot(data = airbnb, x = 'price_category')\n",
        "\n",
        "for bars in ax.containers:\n",
        "    ax.bar_label(bars)\n",
        "\n",
        "# setting plot title and labels\n",
        "plt.title('Count of Property based on Price category', fontsize = 15)\n",
        "plt.xlabel('Price category', fontsize = 14)\n",
        "plt.ylabel('Count of Properties', fontsize = 14)\n",
        "\n",
        "# changing fontsize of tick labels\n",
        "plt.tick_params(axis='x', labelsize=10)\n",
        "plt.tick_params(axis='y', labelsize=10)\n",
        "\n",
        "# display plot\n",
        "plt.show()\n",
        "\n",
        "\n"
      ],
      "metadata": {
        "id": "kuRf4wtuphqN"
      },
      "execution_count": null,
      "outputs": []
    },
    {
      "cell_type": "markdown",
      "source": [
        "##### 1. Why did you pick the specific chart?"
      ],
      "metadata": {
        "id": "bbFf2-_FphqN"
      }
    },
    {
      "cell_type": "markdown",
      "source": [
        "Countplots are particularly useful when you want to understand how many times each category appears in a dataset."
      ],
      "metadata": {
        "id": "loh7H2nzphqN"
      }
    },
    {
      "cell_type": "markdown",
      "source": [
        "##### 2. What is/are the insight(s) found from the chart?"
      ],
      "metadata": {
        "id": "_ouA3fa0phqN"
      }
    },
    {
      "cell_type": "markdown",
      "source": [
        "Most number of properties fall in the category of medium price property, followed by few properties in low price category and very few properties are in high price category."
      ],
      "metadata": {
        "id": "VECbqPI7phqN"
      }
    },
    {
      "cell_type": "markdown",
      "source": [
        "##### 3. Will the gained insights help creating a positive business impact?\n",
        "Are there any insights that lead to negative growth? Justify with specific reason."
      ],
      "metadata": {
        "id": "Seke61FWphqN"
      }
    },
    {
      "cell_type": "markdown",
      "source": [
        "\n",
        "\n",
        "*   The positive impact would be that these insights from the countplot can guide product development decisions. By analyzing the popularity of price categories, the platform can identify opportunities to expand its offerings or introduce new features targeted at specific price segments. This allows the platform to diversify its portfolio and attract a wider range of guests.\n",
        "*   The negative impact would be that if the count plot shows a lack of diversity in price categories, with a majority of properties concentrated in a narrow range, it may limit the platform's ability to cater to a broader market. This lack of pricing options can result in missed opportunities to attract guests with different budget preferences, leading to reduced growth potential.\n",
        "\n"
      ],
      "metadata": {
        "id": "DW4_bGpfphqN"
      }
    },
    {
      "cell_type": "markdown",
      "source": [
        "#### Chart - 7"
      ],
      "metadata": {
        "id": "PIIx-8_IphqN"
      }
    },
    {
      "cell_type": "code",
      "source": [
        "# Creating a new column named last_review_year from the last_review_column\n",
        "\n",
        "airbnb['last_review_year'] = airbnb['last_review'].dt.year"
      ],
      "metadata": {
        "id": "sbfe5z9iEFKS"
      },
      "execution_count": null,
      "outputs": []
    },
    {
      "cell_type": "code",
      "source": [
        "# Number of unique years for last_review_year\n",
        "\n",
        "airbnb['last_review_year'].nunique()"
      ],
      "metadata": {
        "id": "S92qvHZrEORP"
      },
      "execution_count": null,
      "outputs": []
    },
    {
      "cell_type": "code",
      "source": [
        "# Chart - 7 visualization code\n",
        "\n",
        "# Years for which the last review is available for a property\n",
        "\n",
        "ax = sns.countplot(data= airbnb, x= 'last_review_year')\n",
        "\n",
        "for bars in ax.containers:\n",
        "  ax.bar_label(bars)\n",
        "\n",
        "# setting plot title and labels\n",
        "plt.title('Count of Property based on last review year', fontsize = 14)\n",
        "plt.xlabel('Last review year', fontsize = 13)\n",
        "plt.ylabel('Count of Properties', fontsize = 13)\n",
        "\n",
        "# changing fontsize of tick labels\n",
        "plt.tick_params(axis='x', labelsize=10)\n",
        "plt.tick_params(axis='y', labelsize=10)\n",
        "\n",
        "# display plot\n",
        "plt.show()"
      ],
      "metadata": {
        "id": "lqAIGUfyphqO"
      },
      "execution_count": null,
      "outputs": []
    },
    {
      "cell_type": "markdown",
      "source": [
        "##### 1. Why did you pick the specific chart?"
      ],
      "metadata": {
        "id": "t27r6nlMphqO"
      }
    },
    {
      "cell_type": "markdown",
      "source": [
        "\n",
        "\n",
        "Countplots are particularly useful when you want to understand how many times each category appears in a dataset.\n"
      ],
      "metadata": {
        "id": "iv6ro40sphqO"
      }
    },
    {
      "cell_type": "markdown",
      "source": [
        "##### 2. What is/are the insight(s) found from the chart?"
      ],
      "metadata": {
        "id": "r2jJGEOYphqO"
      }
    },
    {
      "cell_type": "markdown",
      "source": [
        "Most of the properties is been reviewed in 2019.There is a gradual increase in reviews each year from 2014."
      ],
      "metadata": {
        "id": "Po6ZPi4hphqO"
      }
    },
    {
      "cell_type": "markdown",
      "source": [
        "##### 3. Will the gained insights help creating a positive business impact?\n",
        "Are there any insights that lead to negative growth? Justify with specific reason."
      ],
      "metadata": {
        "id": "b0JNsNcRphqO"
      }
    },
    {
      "cell_type": "markdown",
      "source": [
        "\n",
        "\n",
        "*   The positive impact would be that the platform can assess the performance of properties over time. It helps identify properties that consistently receive positive reviews and maintain a high level of guest satisfaction. Such insights enable the platform to highlight these well-performing properties, boosting their visibility and attracting more bookings.\n",
        "*   The negative impact would be that if there is a significant number of properties with outdated or no reviews, it may indicate a lack of guest engagement or activity on the platform. This can negatively impact the overall trust and confidence of potential guests, leading to decreased bookings and slower growth.\n",
        "\n"
      ],
      "metadata": {
        "id": "xvSq8iUTphqO"
      }
    },
    {
      "cell_type": "markdown",
      "source": [
        "#### Chart - 8"
      ],
      "metadata": {
        "id": "BZR9WyysphqO"
      }
    },
    {
      "cell_type": "code",
      "source": [
        "# Top 5 Number of days for which the properties are available\n",
        "\n",
        "airbnb['availability_365'].value_counts().head()"
      ],
      "metadata": {
        "id": "KBnR4EFxueb1"
      },
      "execution_count": null,
      "outputs": []
    },
    {
      "cell_type": "code",
      "source": [
        "# Calculating median\n",
        "\n",
        "airbnb['availability_365'].median()\n"
      ],
      "metadata": {
        "id": "lA9NDfnMujzm"
      },
      "execution_count": null,
      "outputs": []
    },
    {
      "cell_type": "code",
      "source": [
        "# Box plot to see the variation of values in column availability_365\n",
        "\n",
        "plt.figure(figsize = (6,6))\n",
        "sns.boxplot(data= airbnb, y= 'availability_365' )\n",
        "plt.show()"
      ],
      "metadata": {
        "id": "TdPTWpAVphqO"
      },
      "execution_count": null,
      "outputs": []
    },
    {
      "cell_type": "code",
      "source": [
        "# Checking whether the properties which are having 0 as availability days are operational or not\n",
        "\n",
        "availability_0_check = airbnb.loc[airbnb['availability_365'] == 0,['availability_365','last_review']]\n",
        "availability_0_check"
      ],
      "metadata": {
        "id": "38Lus_TivBx1"
      },
      "execution_count": null,
      "outputs": []
    },
    {
      "cell_type": "markdown",
      "source": [
        "By this we can confirm that most properties having availability as '0' days have a last review date.So these properties are operational.So we can replace these '0' days with the median of avaiability_365 column."
      ],
      "metadata": {
        "id": "b4NoN5vDvQOp"
      }
    },
    {
      "cell_type": "code",
      "source": [
        "# removing rows containing 0 as the number of days available in a year for median of availability_365 column\n",
        "\n",
        "availability_0_removed = airbnb[airbnb['availability_365'] != 0]\n",
        "\n",
        "# Replacing 0 days with the median of the availability_365 column\n",
        "\n",
        "airbnb['availability_365'] = np.where(airbnb['availability_365'] == 0, availability_0_removed['availability_365'].median(),airbnb['availability_365'] )\n"
      ],
      "metadata": {
        "id": "p0x_3OWCvEOn"
      },
      "execution_count": null,
      "outputs": []
    },
    {
      "cell_type": "code",
      "source": [
        "# Calculating median after removing 0 values from the availability_365 column\n",
        "\n",
        "airbnb['availability_365'].median()\n"
      ],
      "metadata": {
        "id": "03AZn02dwh0o"
      },
      "execution_count": null,
      "outputs": []
    },
    {
      "cell_type": "code",
      "source": [
        "airbnb['availability_365'].value_counts().head()\n"
      ],
      "metadata": {
        "id": "aBMhDzNXwnGo"
      },
      "execution_count": null,
      "outputs": []
    },
    {
      "cell_type": "code",
      "source": [
        "# Chart - 8 visualization code\n",
        "\n",
        "# Box plot to see the variation of values in column availability_365 after replacing 0 values with median\n",
        "\n",
        "plt.figure(figsize = (6,6))\n",
        "sns.boxplot(data= airbnb, y= 'availability_365' )\n",
        "plt.show()"
      ],
      "metadata": {
        "id": "kM_cQKeNwx8F"
      },
      "execution_count": null,
      "outputs": []
    },
    {
      "cell_type": "markdown",
      "source": [
        "##### 1. Why did you pick the specific chart?"
      ],
      "metadata": {
        "id": "jj7wYXLtphqO"
      }
    },
    {
      "cell_type": "markdown",
      "source": [
        "A box plot, also known as a box-and-whisker plot, displays several key characteristics of a dataset, including the median, quartiles, and any outliers.Box plots are useful because they allow you to quickly visualize the spread and skewness of a dataset, as well as identify any outliers that may be present."
      ],
      "metadata": {
        "id": "Ob8u6rCTphqO"
      }
    },
    {
      "cell_type": "markdown",
      "source": [
        "##### 2. What is/are the insight(s) found from the chart?"
      ],
      "metadata": {
        "id": "eZrbJ2SmphqO"
      }
    },
    {
      "cell_type": "markdown",
      "source": [
        "The first box plot shows that the data for availability_365 column is highly skewed. After the 0 values are removed from the availabity_365 column it can be easily seen that the median of the data has increased and the skewness of the data has also reduced. This means that the data of the availabity_365 column has been improved for further analysis and now the analysis done will be meaningful."
      ],
      "metadata": {
        "id": "mZtgC_hjphqO"
      }
    },
    {
      "cell_type": "markdown",
      "source": [
        "**Q. Who is the best host for each room?**"
      ],
      "metadata": {
        "id": "d-aYpwBHyJ6X"
      }
    },
    {
      "cell_type": "code",
      "source": [
        "# Function to get the best host in each room_type\n",
        "\n",
        "def best_host_in_room_type(room_type_name):\n",
        "  temp_df = airbnb[airbnb['room_type'] == room_type_name]\n",
        "  temp_df_count = pd.DataFrame(temp_df[['room_type','host_name']].value_counts().head(1)).reset_index().rename(columns={0:'Number of Properties'})\n",
        "  return temp_df_count\n",
        "\n",
        "# Making a list containing the names of all the neighbourhood_groups\n",
        "\n",
        "room_type_list = list(airbnb['room_type'].unique())\n",
        "room_type_list\n",
        "\n",
        "# Creating an empty list to store the dataframe returned by the above function\n",
        "best_host_in_room_type_df_list = []\n",
        "\n",
        "# Using loop to input neighbourhooh_group names to the function and appending the returned dataframe from the function to the list\n",
        "for i in room_type_list:\n",
        "   best_host_in_room_type_df_list.append(best_host_in_room_type(i))\n",
        "\n",
        "# concatinating the dataframes returned by function to get final datframe\n",
        "best_host_in_room_type_df = pd.concat(best_host_in_room_type_df_list)\n",
        "best_host_in_room_type_df.sort_values('Number of Properties', ascending= False)\n"
      ],
      "metadata": {
        "id": "bY1P3ppZybGB"
      },
      "execution_count": null,
      "outputs": []
    },
    {
      "cell_type": "markdown",
      "source": [
        "The above table shows the names of the best host in each of the room_type based of number of properties handled by them. Sonder is the best host corresponding to room type Entire home/apt. Followed by David for Private room and Sergii for shared room. Sonder is also the best host in Manhattan. So, if a customer requires Entire home/apt in Manhatten, Solder should be recommended to customer."
      ],
      "metadata": {
        "id": "59nr3BfJykWj"
      }
    },
    {
      "cell_type": "markdown",
      "source": [
        "**Q. Who is the best host in neighbourhood_group ?**"
      ],
      "metadata": {
        "id": "xjr7yKiGy3K-"
      }
    },
    {
      "cell_type": "code",
      "source": [
        "# Function to get the best host in each neighbourhood_group\n",
        "\n",
        "def best_host_in_neighbourhood_group(neighbourhood_group_name):\n",
        "  temp_df = airbnb[airbnb['neighbourhood_group'] == neighbourhood_group_name]\n",
        "  temp_df_count = pd.DataFrame(temp_df[['neighbourhood_group','host_name']].value_counts().head(1)).reset_index().rename(columns={0:'Number of Properties'})\n",
        "  return temp_df_count\n",
        "\n",
        "# Making a list containing the names of all the neighbourhood_groups\n",
        "\n",
        "neighbourhood_group_list = list(airbnb['neighbourhood_group'].unique())\n",
        "neighbourhood_group_list\n",
        "\n",
        "# Creating an empty list to store the dataframe returned by the above function\n",
        "best_host_in_neighbourhood_group_df_list = []\n",
        "\n",
        "# Using loop to input neighbourhooh_group names to the function and appending the returned dataframe from the function to the list\n",
        "for i in neighbourhood_group_list:\n",
        "   best_host_in_neighbourhood_group_df_list.append(best_host_in_neighbourhood_group(i))\n",
        "\n",
        "# concatinating the dataframes returned by function to get final datframe\n",
        "best_host_in_neighbourhood_group_df = pd.concat(best_host_in_neighbourhood_group_df_list)\n",
        "best_host_in_neighbourhood_group_df.sort_values('Number of Properties', ascending= False)\n"
      ],
      "metadata": {
        "id": "LxRiJgbsztqx"
      },
      "execution_count": null,
      "outputs": []
    },
    {
      "cell_type": "markdown",
      "source": [
        "The above table shows the names of the best host in each of the neighbourhood_group based of number of properties handled by them. Sonder is the best host corresponding to neighbourhood_group Manhattan."
      ],
      "metadata": {
        "id": "qZbg_ztUz04y"
      }
    },
    {
      "cell_type": "markdown",
      "source": [
        "**Q. Who is the best host for each price category ?**"
      ],
      "metadata": {
        "id": "EFh81yNVz8mP"
      }
    },
    {
      "cell_type": "code",
      "source": [
        "# Function to get the best host in each price_category\n",
        "\n",
        "def best_host_in_price_category(price_category_name):\n",
        "  temp_df = airbnb[airbnb['price_category'] == price_category_name]\n",
        "  temp_df_count = pd.DataFrame(temp_df[['price_category','host_name']].value_counts().head(1)).reset_index().rename(columns={0:'Number of Properties'})\n",
        "  return temp_df_count\n",
        "\n",
        "# Making a list containing the names of all the neighbourhood_groups\n",
        "\n",
        "price_category_list = list(airbnb['price_category'].unique())\n",
        "price_category_list\n",
        "\n",
        "# Creating an empty list to store the dataframe returned by the above function\n",
        "best_host_in_price_category_df_list = []\n",
        "\n",
        "# Using loop to input neighbourhooh_group names to the function and appending the returned dataframe from the function to the list\n",
        "for i in price_category_list:\n",
        "   best_host_in_price_category_df_list.append(best_host_in_price_category(i))\n",
        "\n",
        "# concatinating the dataframes returned by function to get final datframe\n",
        "best_host_in_price_category_df = pd.concat(best_host_in_price_category_df_list)\n",
        "best_host_in_price_category_df.sort_values('Number of Properties', ascending= False)\n"
      ],
      "metadata": {
        "id": "vaa510uD0ZxY"
      },
      "execution_count": null,
      "outputs": []
    },
    {
      "cell_type": "markdown",
      "source": [
        "\n",
        "\n",
        "The above table shows the names of the best host in each of the price_category based of number of properties handled by them. Michael is the best host corresponding to room type Medium. Followed by Kazuya for Low and Henry for High. Michael is also the best host in Brooklyn. So, if a customer want properties in Brooklyn in the medium price category then Michael should be recommended."
      ],
      "metadata": {
        "id": "qNPJ4OHm0f6v"
      }
    },
    {
      "cell_type": "markdown",
      "source": [
        "#### Chart - 9 - Correlation Heatmap"
      ],
      "metadata": {
        "id": "NC_X3p0fY2L0"
      }
    },
    {
      "cell_type": "code",
      "source": [
        "# Correlation Heatmap visualization code\n",
        "airbnb_numerical_columns = airbnb[['price','minimum_nights','number_of_reviews','calculated_host_listings_count','availability_365','last_review_year']]\n",
        "# Computing the correlation matrix using the corr method\n",
        "corr = airbnb_numerical_columns.corr()\n",
        "plt.figure(figsize=(6,6))\n",
        "heatmap = sns.heatmap(corr, cmap= 'Spectral', annot = True, vmax = 1, vmin = -1)\n",
        "plt.show()"
      ],
      "metadata": {
        "id": "xyC9zolEZNRQ"
      },
      "execution_count": null,
      "outputs": []
    },
    {
      "cell_type": "markdown",
      "source": [
        "##### 1. Why did you pick the specific chart?"
      ],
      "metadata": {
        "id": "UV0SzAkaZNRQ"
      }
    },
    {
      "cell_type": "markdown",
      "source": [
        "Heatmaps are graphical representations of data that use color-coding to represent values in a matrix. They are commonly used to visualize the correlation between different variables in a dataset."
      ],
      "metadata": {
        "id": "DVPuT8LYZNRQ"
      }
    },
    {
      "cell_type": "markdown",
      "source": [
        "##### 2. What is/are the insight(s) found from the chart?"
      ],
      "metadata": {
        "id": "YPEH6qLeZNRQ"
      }
    },
    {
      "cell_type": "markdown",
      "source": [
        "The heatmap indicates that there is no significant correlation between the numerical columns of the dataset. The values in the numerical columns appear to be independent of each other and not strongly related to the values in the other columns."
      ],
      "metadata": {
        "id": "bfSqtnDqZNRR"
      }
    },
    {
      "cell_type": "markdown",
      "source": [
        "#### Chart - 10 - Pair Plot"
      ],
      "metadata": {
        "id": "q29F0dvdveiT"
      }
    },
    {
      "cell_type": "code",
      "source": [
        "# Pair Plot visualization code\n",
        "sns.pairplot(airbnb_numerical_columns, diag_kind='hist')\n",
        "plt.show()"
      ],
      "metadata": {
        "id": "o58-TEIhveiU"
      },
      "execution_count": null,
      "outputs": []
    },
    {
      "cell_type": "markdown",
      "source": [
        "##### 1. Why did you pick the specific chart?"
      ],
      "metadata": {
        "id": "EXh0U9oCveiU"
      }
    },
    {
      "cell_type": "markdown",
      "source": [
        "Pairplots can be a useful tool for exploring and identifying patterns and trends in your data, and for identifying potential correlations between variables. They can help to quickly visualize and understand the relationships between multiple variables in a dataset."
      ],
      "metadata": {
        "id": "eMmPjTByveiU"
      }
    },
    {
      "cell_type": "markdown",
      "source": [
        "##### 2. What is/are the insight(s) found from the chart?"
      ],
      "metadata": {
        "id": "22aHeOlLveiV"
      }
    },
    {
      "cell_type": "markdown",
      "source": [
        "The above pairplot provides a visual representation of the correlation between numerical columns in the dataset. It shows that variables with a positive correlation coefficient in the heatmap also display a positive correlation in the corresponding scatter plot, while variables with a negative correlation coefficient show a negative correlation. If the correlation coefficient is close to zero, the pairplot also shows that the variables have little or no relationship with each other. In this way, the pairplot can help to identify and confirm patterns and relationships in the data, and can be a useful tool in exploratory data analysis."
      ],
      "metadata": {
        "id": "uPQ8RGwHveiV"
      }
    },
    {
      "cell_type": "markdown",
      "source": [
        "## **5. Solution to Business Objective**"
      ],
      "metadata": {
        "id": "JcMwzZxoAimU"
      }
    },
    {
      "cell_type": "markdown",
      "source": [
        "#### What do you suggest the client to achieve Business Objective ?\n",
        "Explain Briefly."
      ],
      "metadata": {
        "id": "8G2x9gOozGDZ"
      }
    },
    {
      "cell_type": "markdown",
      "source": [
        "Based on the insights gained from the EDA of the Airbnb NYC 2019 dataset, here are some potential solutions to the business objectives:\n",
        "\n",
        "\n",
        "1.   Improve occupancy rate:\n",
        "*   Improve the listing description and photos to better showcase the property and increase its appeal to potential guests.\n",
        "\n",
        "\n",
        "\n",
        "2.   Increase revenue:\n",
        "\n",
        "*   Analyze the pricing trends in different neighborhoods based on different criterions and adjust the pricing strategy to maximize revenue.\n",
        "*   Provide additional amenities or services to increase the perceived value of the listing and justify higher prices.\n",
        "\n",
        "3.   Enhance guest experience:\n",
        "\n",
        "*   Provide high-quality amenities and services, such as reliable Wi-Fi, comfortable bedding, and helpful local recommendations, to improve guest satisfaction and encourage positive reviews.\n",
        "*   Use guest feedback to identify areas for improvement and implement changes to enhance the overall guest experience.\n",
        "*   Respond promptly and courteously to guest inquiries and complaints to build a positive reputation and encourage repeat business.\n",
        "\n",
        "\n",
        "\n",
        "\n",
        "\n",
        "\n",
        "\n",
        "\n"
      ],
      "metadata": {
        "id": "pASKb0qOza21"
      }
    },
    {
      "cell_type": "markdown",
      "source": [
        "# **Conclusion**"
      ],
      "metadata": {
        "id": "gCX9965dhzqZ"
      }
    },
    {
      "cell_type": "markdown",
      "source": [
        "\n",
        "\n",
        "1.   The most number of properties listed are present in Manhattan and Brooklyn followed by Queens, Bronx, and Staten Island.\n",
        "2.   The properties with the names Hillside Hotel, Home away from home, and New york Multi-unit building are the top 3 most listed properties according to property name.\n",
        "\n",
        "1.   The top 5 host who have maximum listings are Michael, David, Sonder(NYC), John, and Alex.\n",
        "\n",
        "1.   Manhattan has the highest density of properties.\n",
        "\n",
        "1.   Most of the people prefer entire home/Apartment\n",
        "2.   Most number of properties belong to the category of medium price range.\n",
        "\n",
        "7.   Most of the properties is been reviewed in 2019.There is a gradual increase in reviews each year from 2014.\n",
        "\n",
        "1.   Sonder is the best host corresponding to room type Entire home/apt. Followed by David for Private room and Sergii for shared room. Sonder is also the best host in Manhattan. So, if a customer requires Entire home/apt in Manhatten, Solder should be recommended to customer.\n",
        "2.   Michael is the best host corresponding to room type Medium. Followed by Kazuya for Low and Henry for High. Michael is also the best host in Brooklyn. So, if a customer want properties in Brooklyn in the medium price category then Michael should be recommended.\n",
        "\n",
        "1.   The heatmap and pairplot indicate that there is no significant correlation between the numerical columns of the dataset. The values in the numerical columns appear to be independent of each other and not strongly related to the values in the other columns.\n",
        "\n",
        "Overall, the Airbnb NYC 2019 dataset provides valuable insights into the short-term rental market in New York City. The dataset can be used by hosts to better understand their competition and adjust their pricing strategy, improve occupancy rate, and enhance customer experience.\n",
        "\n",
        "\n",
        "\n",
        "\n",
        "\n",
        "\n",
        "\n",
        "\n",
        "\n",
        "\n",
        "\n",
        "\n",
        "\n",
        "\n",
        "\n",
        "\n",
        "\n"
      ],
      "metadata": {
        "id": "Fjb1IsQkh3yE"
      }
    },
    {
      "cell_type": "markdown",
      "source": [
        "### ***Hurrah! You have successfully completed your EDA Capstone Project !!!***"
      ],
      "metadata": {
        "id": "gIfDvo9L0UH2"
      }
    }
  ]
}